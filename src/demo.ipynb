{
 "cells": [
  {
   "cell_type": "code",
   "execution_count": 1,
   "metadata": {},
   "outputs": [],
   "source": [
    "%load_ext autoreload\n",
    "%autoreload 2"
   ]
  },
  {
   "cell_type": "code",
   "execution_count": 86,
   "metadata": {},
   "outputs": [],
   "source": [
    "from dataset import PathMNIST"
   ]
  },
  {
   "cell_type": "code",
   "execution_count": 78,
   "metadata": {},
   "outputs": [],
   "source": [
    "import torchvision.transforms as transforms\n",
    "from constant import PathMNISTmeta\n",
    "\n",
    "from torch.utils.data import DataLoader"
   ]
  },
  {
   "cell_type": "code",
   "execution_count": 79,
   "metadata": {},
   "outputs": [],
   "source": [
    "train_transform = transforms.Compose([\n",
    "    transforms.RandomCrop(28, padding=4, padding_mode=\"reflect\"),\n",
    "    transforms.RandomHorizontalFlip(),\n",
    "    transforms.ToTensor(),\n",
    "    transforms.Normalize(mean=PathMNISTmeta.MEAN, std=PathMNISTmeta.STD)\n",
    "])"
   ]
  },
  {
   "cell_type": "code",
   "execution_count": 80,
   "metadata": {},
   "outputs": [],
   "source": [
    "train_dataset = PathMNIST(\n",
    "    split=\"train\", download=False, \n",
    "    transform=train_transform,\n",
    "    root=\"../data/medmnist2d/\"\n",
    ")"
   ]
  },
  {
   "cell_type": "code",
   "execution_count": 87,
   "metadata": {},
   "outputs": [],
   "source": [
    "train_loader = DataLoader(train_dataset, batch_size=4, collate_fn=PathMNIST.collate_fn)"
   ]
  },
  {
   "cell_type": "code",
   "execution_count": 88,
   "metadata": {},
   "outputs": [
    {
     "name": "stdout",
     "output_type": "stream",
     "text": [
      "(tensor([[[[ 1.0154,  1.0154,  0.9835,  ...,  0.9517,  1.0154,  0.9517],\n",
      "          [ 0.6016,  0.6334,  0.5061,  ...,  1.0154,  1.0154,  1.0154],\n",
      "          [ 0.1241,  0.2833,  0.3469,  ...,  1.0154,  0.9517,  1.0154],\n",
      "          ...,\n",
      "          [ 1.0790,  1.0154,  1.0790,  ...,  0.8880,  0.9835,  0.8880],\n",
      "          [ 1.0472,  1.0472,  1.0790,  ...,  0.0923,  0.2196,  0.0923],\n",
      "          [ 0.9517,  0.9517,  0.9835,  ...,  1.0154,  0.9835,  1.0154]],\n",
      "\n",
      "         [[ 1.5952,  1.5952,  1.5729,  ...,  1.5506,  1.5952,  1.5506],\n",
      "          [ 1.2611,  1.2388,  1.1274,  ...,  1.5952,  1.6174,  1.5952],\n",
      "          [ 0.8156,  0.9270,  0.9493,  ...,  1.5952,  1.5729,  1.5952],\n",
      "          ...,\n",
      "          [ 1.6397,  1.6174,  1.5952,  ...,  1.5061,  1.5506,  1.5061],\n",
      "          [ 1.6174,  1.5952,  1.6397,  ...,  0.7265,  0.7934,  0.7265],\n",
      "          [ 1.5284,  1.5506,  1.5952,  ...,  1.5729,  1.5729,  1.5729]],\n",
      "\n",
      "         [[ 1.4781,  1.4781,  1.4781,  ...,  1.4148,  1.4781,  1.4148],\n",
      "          [ 1.0668,  1.0668,  0.9719,  ...,  1.4781,  1.4781,  1.4781],\n",
      "          [ 0.5606,  0.7187,  0.7504,  ...,  1.4781,  1.4781,  1.4781],\n",
      "          ...,\n",
      "          [ 1.5414,  1.5097,  1.4781,  ...,  1.3832,  1.4148,  1.3832],\n",
      "          [ 1.5097,  1.5097,  1.5097,  ...,  0.5289,  0.6555,  0.5289],\n",
      "          [ 1.4465,  1.4465,  1.4781,  ...,  1.4781,  1.4781,  1.4781]]],\n",
      "\n",
      "\n",
      "        [[[ 0.3787,  0.9835,  0.5697,  ...,  0.2833, -0.6080, -1.0218],\n",
      "          [ 0.9517,  0.4742, -0.2897,  ...,  0.4424,  0.2833,  0.0923],\n",
      "          [ 0.1878, -0.1624,  0.3787,  ..., -0.2897, -0.0987,  0.0604],\n",
      "          ...,\n",
      "          [-0.0351, -0.3852, -0.3852,  ...,  0.2196,  0.4424,  0.4742],\n",
      "          [ 0.3151,  0.6652,  0.5061,  ...,  0.5697,  0.4424,  0.3469],\n",
      "          [-0.0351,  0.7607,  0.5697,  ..., -0.9582, -0.3852,  0.5697]],\n",
      "\n",
      "         [[-0.4316,  0.0584, -0.1644,  ...,  0.4815, -0.5207, -1.0330],\n",
      "          [ 0.1252, -0.1866, -0.4094,  ...,  0.7934,  0.6152,  0.3702],\n",
      "          [-0.3648, -0.2312,  0.6597,  ...,  0.0361,  0.2588,  0.4370],\n",
      "          ...,\n",
      "          [ 0.3479,  0.0361,  0.1029,  ..., -0.3425, -0.1421, -0.1198],\n",
      "          [ 0.6374,  1.0161,  0.8824,  ...,  0.1475,  0.1475,  0.2811],\n",
      "          [ 0.4147,  1.2165,  0.9715,  ..., -0.8771, -0.2089,  0.6597]],\n",
      "\n",
      "         [[-0.3254,  0.2125, -0.0406,  ...,  0.5606, -0.4836, -1.0531],\n",
      "          [ 0.2442, -0.0722, -0.3570,  ...,  0.8453,  0.6871,  0.4340],\n",
      "          [-0.2937, -0.1672,  0.7187,  ...,  0.1176,  0.3074,  0.4973],\n",
      "          ...,\n",
      "          [ 0.4340,  0.1492,  0.2125,  ..., -0.1988, -0.0090, -0.0090],\n",
      "          [ 0.6871,  1.0035,  0.9086,  ...,  0.2442,  0.2125,  0.2442],\n",
      "          [ 0.4973,  1.1933,  1.0035,  ..., -0.9582, -0.2304,  0.6871]]],\n",
      "\n",
      "\n",
      "        [[[ 0.9199,  0.6334,  0.8562,  ...,  0.7607,  0.5061,  0.6971],\n",
      "          [ 0.7607,  0.3469,  0.5061,  ...,  0.5379,  0.5697,  0.6016],\n",
      "          [ 0.5379, -0.2260,  0.3151,  ...,  0.6652,  0.3469,  0.4106],\n",
      "          ...,\n",
      "          [ 0.5061,  0.3151,  0.8244,  ...,  0.9835,  1.0154,  0.7289],\n",
      "          [ 0.6016, -0.3852, -0.4807,  ...,  1.1109,  1.0154,  0.5061],\n",
      "          [ 0.5061,  0.3151,  0.8244,  ...,  0.9835,  1.0154,  0.7289]],\n",
      "\n",
      "         [[ 0.7488,  0.5038,  0.6374,  ...,  0.6152,  0.4593,  0.5484],\n",
      "          [ 0.7043,  0.5038,  0.4593,  ...,  0.5261,  0.7265,  0.6374],\n",
      "          [ 0.6820, -0.1198,  0.2143,  ...,  0.6152,  0.5038,  0.3702],\n",
      "          ...,\n",
      "          [ 0.1920,  0.1252,  0.4593,  ...,  0.3479,  0.4593,  0.2588],\n",
      "          [ 0.5261, -0.4984, -0.6098,  ...,  0.5261,  0.6152, -0.0753],\n",
      "          [ 0.1920,  0.1252,  0.4593,  ...,  0.3479,  0.4593,  0.2588]],\n",
      "\n",
      "         [[ 0.7820,  0.5606,  0.6871,  ...,  0.6555,  0.5289,  0.6238],\n",
      "          [ 0.6871,  0.4973,  0.4973,  ...,  0.5922,  0.7187,  0.6555],\n",
      "          [ 0.6555, -0.1355,  0.2442,  ...,  0.6871,  0.4973,  0.3707],\n",
      "          ...,\n",
      "          [ 0.2442,  0.1176,  0.5289,  ...,  0.4656,  0.5606,  0.2758],\n",
      "          [ 0.5606, -0.5468, -0.6734,  ...,  0.6238,  0.6555, -0.0406],\n",
      "          [ 0.2442,  0.1176,  0.5289,  ...,  0.4656,  0.5606,  0.2758]]],\n",
      "\n",
      "\n",
      "        [[[ 0.0286,  0.2833,  0.5697,  ...,  0.9517,  1.1109,  1.0472],\n",
      "          [ 0.6334,  0.8244,  1.0472,  ...,  1.0154,  0.9835,  0.8244],\n",
      "          [ 0.8562,  0.6971,  0.4424,  ...,  0.9517,  0.7926,  0.9199],\n",
      "          ...,\n",
      "          [ 0.5379,  0.9199,  0.9199,  ...,  0.4742,  0.8880,  0.9835],\n",
      "          [ 0.9835,  0.9517,  0.8880,  ...,  0.2514,  0.6652,  0.8562],\n",
      "          [ 0.8880,  0.9835,  1.0472,  ...,  0.9835,  0.6971,  0.4424]],\n",
      "\n",
      "         [[-0.6766, -0.4984, -0.3871,  ..., -0.2089, -0.0530, -0.0753],\n",
      "          [ 0.0361,  0.5261,  0.5484,  ..., -0.0530, -0.0085, -0.2312],\n",
      "          [-0.2312, -0.0085,  0.0806,  ..., -0.0753, -0.1421,  0.0138],\n",
      "          ...,\n",
      "          [-0.0307, -0.0085, -0.0530,  ..., -0.3203, -0.0530,  0.0806],\n",
      "          [ 0.2143, -0.1866, -0.2089,  ..., -0.4762, -0.2980, -0.1421],\n",
      "          [-0.0530, -0.2535,  0.0806,  ...,  0.2143, -0.1644, -0.2757]],\n",
      "\n",
      "         [[-0.6101, -0.3886, -0.2937,  ..., -0.1039,  0.0860,  0.0543],\n",
      "          [ 0.1176,  0.5289,  0.5922,  ...,  0.0543,  0.0860, -0.1039],\n",
      "          [-0.1039,  0.0227,  0.0860,  ...,  0.0543, -0.0406,  0.1176],\n",
      "          ...,\n",
      "          [-0.0090,  0.1176,  0.0543,  ..., -0.2304,  0.0543,  0.1809],\n",
      "          [ 0.3074, -0.0722, -0.0722,  ..., -0.3886, -0.1672, -0.0406],\n",
      "          [ 0.0543, -0.1355,  0.2125,  ...,  0.3074, -0.0722, -0.1988]]]]), tensor([0, 4, 7, 5]))\n"
     ]
    }
   ],
   "source": [
    "for x in train_loader:\n",
    "    print(x)\n",
    "    break"
   ]
  },
  {
   "cell_type": "code",
   "execution_count": 91,
   "metadata": {},
   "outputs": [
    {
     "data": {
      "text/plain": [
       "torch.Size([4, 3, 28, 28])"
      ]
     },
     "execution_count": 91,
     "metadata": {},
     "output_type": "execute_result"
    }
   ],
   "source": [
    "x[0].shape"
   ]
  },
  {
   "cell_type": "code",
   "execution_count": 93,
   "metadata": {},
   "outputs": [
    {
     "data": {
      "text/plain": [
       "22499"
      ]
     },
     "execution_count": 93,
     "metadata": {},
     "output_type": "execute_result"
    }
   ],
   "source": [
    "len(train_loader)"
   ]
  },
  {
   "cell_type": "code",
   "execution_count": 72,
   "metadata": {},
   "outputs": [
    {
     "data": {
      "text/plain": [
       "tensor([1, 2, 3])"
      ]
     },
     "execution_count": 72,
     "metadata": {},
     "output_type": "execute_result"
    }
   ],
   "source": [
    "torch.Tensor([1,2,3])"
   ]
  },
  {
   "cell_type": "code",
   "execution_count": 59,
   "metadata": {},
   "outputs": [
    {
     "data": {
      "text/plain": [
       "[array(0), array(4), array(7), array(5)]"
      ]
     },
     "execution_count": 59,
     "metadata": {},
     "output_type": "execute_result"
    }
   ],
   "source": [
    "x[1]"
   ]
  },
  {
   "cell_type": "code",
   "execution_count": 28,
   "metadata": {},
   "outputs": [
    {
     "data": {
      "text/plain": [
       "torch.Size([4, 1])"
      ]
     },
     "execution_count": 28,
     "metadata": {},
     "output_type": "execute_result"
    }
   ],
   "source": [
    "x[1].shape"
   ]
  },
  {
   "cell_type": "code",
   "execution_count": 29,
   "metadata": {},
   "outputs": [
    {
     "data": {
      "text/plain": [
       "tensor([0, 4, 7, 5])"
      ]
     },
     "execution_count": 29,
     "metadata": {},
     "output_type": "execute_result"
    }
   ],
   "source": [
    "x[1].squeeze()"
   ]
  },
  {
   "cell_type": "code",
   "execution_count": 31,
   "metadata": {},
   "outputs": [
    {
     "data": {
      "text/plain": [
       "torch.Size([4, 1])"
      ]
     },
     "execution_count": 31,
     "metadata": {},
     "output_type": "execute_result"
    }
   ],
   "source": [
    "x[1].shape"
   ]
  },
  {
   "cell_type": "code",
   "execution_count": 33,
   "metadata": {},
   "outputs": [
    {
     "data": {
      "text/plain": [
       "tensor([0, 4, 7, 5])"
      ]
     },
     "execution_count": 33,
     "metadata": {},
     "output_type": "execute_result"
    }
   ],
   "source": [
    "x[1].squeeze(-1)"
   ]
  },
  {
   "cell_type": "code",
   "execution_count": 37,
   "metadata": {},
   "outputs": [],
   "source": [
    "y = x[1].squeeze()"
   ]
  },
  {
   "cell_type": "code",
   "execution_count": 39,
   "metadata": {},
   "outputs": [],
   "source": [
    "from torchvision.models import resnet18"
   ]
  },
  {
   "cell_type": "code",
   "execution_count": 60,
   "metadata": {},
   "outputs": [],
   "source": [
    "from torch.utils.data import default_collate"
   ]
  },
  {
   "cell_type": "code",
   "execution_count": 63,
   "metadata": {},
   "outputs": [
    {
     "data": {
      "text/plain": [
       "<function torch.utils.data._utils.collate.default_collate(batch)>"
      ]
     },
     "execution_count": 63,
     "metadata": {},
     "output_type": "execute_result"
    }
   ],
   "source": [
    "default_collate"
   ]
  },
  {
   "cell_type": "code",
   "execution_count": null,
   "metadata": {},
   "outputs": [],
   "source": []
  }
 ],
 "metadata": {
  "kernelspec": {
   "display_name": "py311",
   "language": "python",
   "name": "python3"
  },
  "language_info": {
   "codemirror_mode": {
    "name": "ipython",
    "version": 3
   },
   "file_extension": ".py",
   "mimetype": "text/x-python",
   "name": "python",
   "nbconvert_exporter": "python",
   "pygments_lexer": "ipython3",
   "version": "3.11.8"
  }
 },
 "nbformat": 4,
 "nbformat_minor": 2
}
