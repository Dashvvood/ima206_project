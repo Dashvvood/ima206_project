{
 "cells": [
  {
   "cell_type": "code",
   "execution_count": null,
   "metadata": {},
   "outputs": [],
   "source": [
    "%load_ext autoreload\n",
    "%autoreload 2"
   ]
  },
  {
   "cell_type": "code",
   "execution_count": null,
   "metadata": {},
   "outputs": [],
   "source": [
    "import os\n",
    "import motti\n",
    "import argparse\n",
    "import numpy as np\n",
    "import matplotlib.pyplot as plt\n",
    "import torch\n",
    "from torch.utils.data import DataLoader"
   ]
  },
  {
   "cell_type": "code",
   "execution_count": null,
   "metadata": {},
   "outputs": [],
   "source": [
    "from dataset import PathMNIST\n",
    "from medmnist import PathMNIST\n",
    "from augmentation import BarlowTwinsTransform, pathmnist_normalization\n",
    "from constant import PathMNIST_HIST, PathMNIST_MEAN, PathMNIST_STD"
   ]
  },
  {
   "cell_type": "code",
   "execution_count": null,
   "metadata": {},
   "outputs": [],
   "source": [
    "opts = argparse.Namespace(\n",
    "    img_size=28,\n",
    ")"
   ]
  },
  {
   "cell_type": "code",
   "execution_count": null,
   "metadata": {},
   "outputs": [],
   "source": [
    "train_transform = BarlowTwinsTransform(\n",
    "    train=True, \n",
    "    input_height=opts.img_size, \n",
    "    gaussian_blur=False, jitter_strength=0.5, \n",
    "    normalize=pathmnist_normalization()\n",
    ")\n",
    "train_dataset = PathMNIST(\n",
    "    split=\"train\", download=False, \n",
    "    transform=train_transform,\n",
    "    root=\"../data/medmnist2d/\"\n",
    ")\n",
    "\n",
    "train_loader = DataLoader(\n",
    "    train_dataset, shuffle=False, num_workers=4, batch_size=4\n",
    ")"
   ]
  },
  {
   "cell_type": "code",
   "execution_count": null,
   "metadata": {},
   "outputs": [],
   "source": [
    "PathMNIST_MEAN = [0.73765225, 0.53090023, 0.70307171]\n",
    "PathMNIST_STD = [0.12319908, 0.17607205, 0.12394462]\n",
    "PathMNIST_HIST = [9366, 9510, 10362, 10404, 8010, 12187, 7892, 9408, 12893]"
   ]
  },
  {
   "cell_type": "code",
   "execution_count": null,
   "metadata": {},
   "outputs": [],
   "source": [
    "train_dataset.info"
   ]
  },
  {
   "cell_type": "code",
   "execution_count": null,
   "metadata": {},
   "outputs": [],
   "source": [
    "from model.barlow_twins import (\n",
    "    BarlowTwins,\n",
    "    get_modified_resnet18,\n",
    ")"
   ]
  },
  {
   "cell_type": "code",
   "execution_count": null,
   "metadata": {},
   "outputs": [],
   "source": [
    "model = BarlowTwins.load_from_checkpoint(\n",
    "    \"../ckpt/epoch=99-step=8700.ckpt\",\n",
    "    encoder = get_modified_resnet18(),\n",
    "    encoder_out_dim=512,\n",
    "    z_dim=128,\n",
    "    num_training_samples=1,\n",
    "    batch_size=1,\n",
    ")"
   ]
  },
  {
   "cell_type": "code",
   "execution_count": null,
   "metadata": {},
   "outputs": [],
   "source": [
    "for x, y in train_dataset:\n",
    "    x0 = x[0].unsqueeze(dim=0)\n",
    "    x1 = x[1].unsqueeze(dim=0)\n",
    "    x2 = x[2].unsqueeze(dim=0)\n",
    "    break"
   ]
  },
  {
   "cell_type": "code",
   "execution_count": null,
   "metadata": {},
   "outputs": [],
   "source": [
    "model = BarlowTwins.load_from_checkpoint(\n",
    "    \"../ckpt/epoch=99-step=8700.ckpt\",\n",
    "    encoder = get_modified_resnet18(),\n",
    "    encoder_out_dim=512,\n",
    "    z_dim=128,\n",
    "    num_training_samples=1,\n",
    "    batch_size=1,\n",
    ")"
   ]
  },
  {
   "cell_type": "code",
   "execution_count": null,
   "metadata": {},
   "outputs": [],
   "source": [
    "@torch.no_grad()\n",
    "def get_corr(model, x1, x2):\n",
    "    model.eval()\n",
    "    x1 = x1.to(model.device)\n",
    "    x2 = x2.to(model.device)\n",
    "    en1 = model(x1)\n",
    "    en2 = model(x2)\n",
    "    z1 = model.projection_head(en1)\n",
    "    z2 = model.projection_head(en2)\n",
    "    # z1_norm = (z1 - torch.mean(z1, dim=0)) / torch.std(z1, dim=0)\n",
    "    # z2_norm = (z2 - torch.mean(z2, dim=0)) / torch.std(z2, dim=0)\n",
    "    # cross_corr = torch.matmul(z1_norm.T, z2_norm)\n",
    "    cross_corr = z1.T @ z2\n",
    "    X0 = x0.cpu().squeeze().numpy()\n",
    "    X0=np.swapaxes(X0,0,1)\n",
    "    X0=np.swapaxes(X0,1,2)\n",
    "    X0 = X0 * PathMNIST_STD + PathMNIST_MEAN\n",
    "    \n",
    "    X1 = x1.cpu().squeeze().numpy()\n",
    "    X1=np.swapaxes(X1,0,1)\n",
    "    X1=np.swapaxes(X1,1,2)\n",
    "    X1 = X1 * PathMNIST_STD + PathMNIST_MEAN\n",
    "    return np.array(cross_corr.cpu()), X0, X1"
   ]
  },
  {
   "cell_type": "code",
   "execution_count": null,
   "metadata": {},
   "outputs": [],
   "source": [
    "C, X0, X1 = get_corr(model, x0, x1)"
   ]
  },
  {
   "cell_type": "code",
   "execution_count": null,
   "metadata": {},
   "outputs": [],
   "source": [
    "plt.imshow(X0)\n",
    "plt.imshow(X1)"
   ]
  },
  {
   "cell_type": "code",
   "execution_count": null,
   "metadata": {},
   "outputs": [],
   "source": [
    "plt.imshow(C, cmap=\"gray\")"
   ]
  }
 ],
 "metadata": {
  "kernelspec": {
   "display_name": "py311",
   "language": "python",
   "name": "python3"
  },
  "language_info": {
   "codemirror_mode": {
    "name": "ipython",
    "version": 3
   },
   "file_extension": ".py",
   "mimetype": "text/x-python",
   "name": "python",
   "nbconvert_exporter": "python",
   "pygments_lexer": "ipython3",
   "version": "3.11.8"
  }
 },
 "nbformat": 4,
 "nbformat_minor": 2
}
